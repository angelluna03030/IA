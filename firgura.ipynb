{
 "cells": [
  {
   "cell_type": "code",
   "execution_count": null,
   "metadata": {},
   "outputs": [],
   "source": []
  },
  {
   "cell_type": "code",
   "execution_count": 8,
   "metadata": {},
   "outputs": [],
   "source": [
    "import turtle "
   ]
  },
  {
   "cell_type": "code",
   "execution_count": 9,
   "metadata": {},
   "outputs": [],
   "source": [
    "t= turtle.Turtle()\n",
    "s = turtle.Screen()\n",
    "s.bgcolor(\"#262626\")\n",
    "t.pencolor(\"#7c909c\")\n",
    "t.speed(100)\n",
    "col=(\"#ed7864\", \"#6e544f\", \"#592f2f\", \"#6e382e\") \n",
    "\n",
    "for i in range(5):\n",
    "    for j in range(8):\n",
    "        t.speed(j+10)\n",
    "        for n in range(2):\n",
    "            t.pensize(2)\n",
    "            t.circle(50+ i * 2, 90)\n",
    "            t.lt(90)\n",
    "        t.lt(45)\n",
    "    t.pencolor(col[i % 4])\n",
    "s.exitonclick()\n",
    "\n",
    "    \n"
   ]
  },
  {
   "cell_type": "code",
   "execution_count": null,
   "metadata": {},
   "outputs": [],
   "source": []
  }
 ],
 "metadata": {
  "kernelspec": {
   "display_name": "Python 3",
   "language": "python",
   "name": "python3"
  },
  "language_info": {
   "codemirror_mode": {
    "name": "ipython",
    "version": 3
   },
   "file_extension": ".py",
   "mimetype": "text/x-python",
   "name": "python",
   "nbconvert_exporter": "python",
   "pygments_lexer": "ipython3",
   "version": "3.12.9"
  }
 },
 "nbformat": 4,
 "nbformat_minor": 2
}
