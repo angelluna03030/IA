{
 "cells": [
  {
   "cell_type": "code",
   "execution_count": null,
   "metadata": {},
   "outputs": [],
   "source": [
    "import tensorflow as tf \n",
    "import tensorflow_datasets as tfds\n",
    "\n",
    "datos, metadatos = tfds.load('mnist', as_supervised=True, with_info=True)\n",
    "datos_entrenamiento, datos_prueba = datos['train'], datos['test']\n",
    "\n",
    "\n",
    "def normalizar(imagenes, etiquetas):\n",
    "    imagenes = tf.cast(imagenes, tf.float32)\n",
    "    imagenes /= 255\n",
    "    return imagenes, etiquetas\n",
    "\n",
    "datos_entrenamiento = datos_entrenamiento.map(normalizar)\n",
    "datos_prueba = datos_prueba.map(normalizar)"
   ]
  },
  {
   "cell_type": "code",
   "execution_count": null,
   "metadata": {},
   "outputs": [],
   "source": [
    "modelo = tf.keras.models.Sequential([\n",
    "\n",
    "    tf.keras.layers.Flatten(input_shape=(28,28,1)),\n",
    "    tf.keras.layers.Dense(units=64, activation='relu'),\n",
    "    tf.keras.layers.Dense(units=64, activation='relu'),\n",
    "    tf.keras.layers.Dense(units=10, activation='softmax')\n",
    "])"
   ]
  }
 ],
 "metadata": {
  "kernelspec": {
   "display_name": "Python 3",
   "language": "python",
   "name": "python3"
  },
  "language_info": {
   "codemirror_mode": {
    "name": "ipython",
    "version": 3
   },
   "file_extension": ".py",
   "mimetype": "text/x-python",
   "name": "python",
   "nbconvert_exporter": "python",
   "pygments_lexer": "ipython3",
   "version": "3.12.9"
  }
 },
 "nbformat": 4,
 "nbformat_minor": 2
}
